{
  "nbformat": 4,
  "nbformat_minor": 0,
  "metadata": {
    "kernelspec": {
      "display_name": "Python 3.8.2 64-bit ('microbiome': conda)",
      "language": "python",
      "name": "python38264bitmicrobiomeconda34f59372388d45f7b5df3ae5463a2181"
    },
    "language_info": {
      "codemirror_mode": {
        "name": "ipython",
        "version": 3
      },
      "file_extension": ".py",
      "mimetype": "text/x-python",
      "name": "python",
      "nbconvert_exporter": "python",
      "pygments_lexer": "ipython3",
      "version": "3.8.3"
    },
    "toc": {
      "base_numbering": 1,
      "nav_menu": {},
      "number_sections": true,
      "sideBar": true,
      "skip_h1_title": false,
      "title_cell": "Table of Contents",
      "title_sidebar": "Contents",
      "toc_cell": false,
      "toc_position": {},
      "toc_section_display": true,
      "toc_window_display": false
    },
    "varInspector": {
      "cols": {
        "lenName": 16,
        "lenType": 16,
        "lenVar": 40
      },
      "kernels_config": {
        "python": {
          "delete_cmd_postfix": "",
          "delete_cmd_prefix": "del ",
          "library": "var_list.py",
          "varRefreshCmd": "print(var_dic_list())"
        },
        "r": {
          "delete_cmd_postfix": ") ",
          "delete_cmd_prefix": "rm(",
          "library": "var_list.r",
          "varRefreshCmd": "cat(var_dic_list()) "
        }
      },
      "types_to_exclude": [
        "module",
        "function",
        "builtin_function_or_method",
        "instance",
        "_Feature"
      ],
      "window_display": false
    },
    "colab": {
      "provenance": [],
      "include_colab_link": true
    }
  },
  "cells": [
    {
      "cell_type": "markdown",
      "metadata": {
        "id": "view-in-github",
        "colab_type": "text"
      },
      "source": [
        "<a href=\"https://colab.research.google.com/github/zbenyouss/Modular-3D-printed-Platform-For-In-vivo-MRI/blob/main/GH_Lecture_Exceptions_Lecture_8.ipynb\" target=\"_parent\"><img src=\"https://colab.research.google.com/assets/colab-badge.svg\" alt=\"Open In Colab\"/></a>"
      ]
    },
    {
      "cell_type": "markdown",
      "metadata": {
        "id": "TO8NL5zQKj5Z"
      },
      "source": [
        "# Introduction to Python - Lecture 8 (or 10?)\n",
        "## July 31, 2023\n"
      ]
    },
    {
      "cell_type": "markdown",
      "metadata": {
        "id": "sLYlRocvKj5d"
      },
      "source": [
        "\n",
        "\n",
        "## Today's Topics:  Error Handling and Files\n",
        "\n",
        "* **`try...except`** to catch all errors\n",
        "* **`try...except`** to catch specific errors\n",
        "* **`try...except...else`**\n",
        "* **`try...except...finally`**\n",
        "* **`raise`**\n",
        "\n",
        "<br />"
      ]
    },
    {
      "cell_type": "markdown",
      "metadata": {
        "id": "12aWE2sGKj5i"
      },
      "source": [
        "# Error Handling"
      ]
    },
    {
      "cell_type": "markdown",
      "metadata": {
        "id": "AtraYNIkKj5m"
      },
      "source": [
        "## What is error handling? Why do we use it?\n",
        "\n",
        "* All of us have experienced errors like this:\n",
        "\n",
        "```python\n",
        "ValueError   Traceback (most recent call last)\n",
        "<ipython-input-31-b3e43121d5ae> in <module>\n",
        "      1 my_list = [1, 2, 4, 5]\n",
        "----> 2 my_list.index('a')\n",
        "\n",
        "\"ValueError: 'a' is not in list\"\n",
        "```\n",
        "\n",
        "* We need a way to ***allow our code to run even if errors occur***\n",
        "\n",
        "  * Using ***error handling***, we can execute code:\n",
        "    * If any error occurs\n",
        "    * If a specific error occurs (e.g., `ValueError`, `KeyError`, etc.)\n",
        "    * No error occurs\n",
        "    * And many more!\n",
        "\n",
        "* Error handling is another kind of ***flow control***, like `if`, `for`, `while`, etc.\n",
        "\n",
        "Let's look into our first pattern: `try...except`\n"
      ]
    },
    {
      "cell_type": "markdown",
      "metadata": {
        "id": "pTvWUPyRKj5p"
      },
      "source": [
        "## Basic `try...except` block"
      ]
    },
    {
      "cell_type": "markdown",
      "metadata": {
        "id": "Owf69Z2GKj5v"
      },
      "source": [
        "A `try...except` block has two parts:\n",
        "\n",
        "* In the `try` section, we put code that might break.\n",
        "\n",
        "\n",
        "* The `except` section only runs ***if our `try` block produces an error***.\n",
        "\n",
        "\n",
        "The `pass` below is simply a placeholder."
      ]
    },
    {
      "cell_type": "markdown",
      "metadata": {
        "id": "t3W7RdeAKj50"
      },
      "source": [
        "\n",
        "\n",
        "*A basic `try...except` block*\n",
        "\n",
        "```python\n",
        "try:\n",
        "    pass\n",
        "except:\n",
        "    pass\n",
        "```\n",
        "\n"
      ]
    },
    {
      "cell_type": "code",
      "metadata": {
        "id": "R08H3yo6Kj52"
      },
      "source": [],
      "execution_count": null,
      "outputs": []
    },
    {
      "cell_type": "markdown",
      "metadata": {
        "id": "B3_epxoMKj6F"
      },
      "source": [
        "Let's try and run a command that wont work."
      ]
    },
    {
      "cell_type": "code",
      "metadata": {
        "id": "twsRStdYKj6I"
      },
      "source": [
        "amino_acids = {\n",
        "    'Alanine': 'Ala',\n",
        "    'Arginine': 'Arg',\n",
        "    'Asparagine': 'Asn',\n",
        "    'Aspartic Acid': 'Asp',\n",
        "    'Cysteine': 'Cys',\n",
        "    'Glutamic Acid': 'Glu',\n",
        "    'Glutamine': 'Gln',\n",
        "    'Glycine': 'Gly',\n",
        "    'Histidine': 'His',\n",
        "    'Isoleucine': 'Ile',\n",
        "    'Leucine': 'Leu',\n",
        "    'Lysine': 'Lys',\n",
        "    'Methionine': 'Met',\n",
        "    'Phenylalanine': 'Phe',\n",
        "    'Proline': 'Pro',\n",
        "    'Serine': 'Ser',\n",
        "    'Threonine': 'Thr',\n",
        "    'Tryptophan': 'Trp',\n",
        "    'Tyrosine': 'Tyr',\n",
        "    'Valine': 'Val'\n",
        "}"
      ],
      "execution_count": null,
      "outputs": []
    },
    {
      "cell_type": "markdown",
      "metadata": {
        "id": "PBcS7ZqOKj6R"
      },
      "source": [
        "We get a `KeyError` because Python can't find `valine` in the dictionary `amino_acids`.\n",
        "\n",
        "Let's write some code in our `except` section to demystify this `KeyError`.\n",
        "\n",
        "---\n",
        "\n",
        "Let's move this error-prone code into the `try` section."
      ]
    },
    {
      "cell_type": "code",
      "metadata": {
        "id": "rszvnagmKj6S"
      },
      "source": [],
      "execution_count": null,
      "outputs": []
    },
    {
      "cell_type": "markdown",
      "metadata": {
        "id": "SMxI63MbKj6i"
      },
      "source": [
        "Now we completely replaced the default error message with our 'custom' message. But let's add the default error message so that we can get used to them."
      ]
    },
    {
      "cell_type": "markdown",
      "metadata": {
        "id": "V2LoCK5NKj6k"
      },
      "source": [
        "By using `except Exception as e`, we can capture the error message and stored it as the variable `e`."
      ]
    },
    {
      "cell_type": "code",
      "metadata": {
        "id": "dMW1B1cdlkyL"
      },
      "source": [],
      "execution_count": null,
      "outputs": []
    },
    {
      "cell_type": "markdown",
      "metadata": {
        "id": "-EJuViQQKj6o"
      },
      "source": [
        "\n",
        "## Capturing specific errors\n",
        "\n",
        "Above we learned that you can use `try...except` to catch errors in code. But what if you want to treat each kind of error in a different way?\n",
        "\n",
        "\n",
        "#### Anatomy of an error\n",
        "\n",
        "Errors have types. For example:\n",
        "\n",
        "\n",
        "```python\n",
        "FileNotFoundError            Traceback (most recent call last)\n",
        "<ipython-input-2-2ffddad31d75> in <module>\n",
        "----> 1 f = open('test_file.txt')\n",
        "\n",
        "FileNotFoundError: [Errno 2] No such file or directory: 'test_file.txt'\n",
        "```\n",
        "    \n",
        "is a `FileNotFoundError`. But there are other types of errors.\n",
        "\n",
        "\n",
        "\n",
        "#### `SyntaxError`\n",
        "\n",
        "If you run the code\n",
        "\n",
        "```python\n",
        "\n",
        "if 2 + 2 == 4\n",
        "    print('You can do math!')\n",
        "\n",
        "```\n",
        "\n",
        "you get the a `SyntaxError`, since you forgot the `:` after your logical statement.\n",
        "\n",
        "\n",
        "```python\n",
        "\n",
        "  File \"<ipython-input-7-d124364c5532>\", line 1\n",
        "    if 2 + 2 == 4\n",
        "                 ^\n",
        "SyntaxError: invalid syntax\n",
        "\n",
        "```\n",
        "\n",
        "\n",
        "#### `IndentationError`\n",
        "\n",
        "Even if we have a `:` after our logical statement, if we don't indent our `print` line, Python will throw an `IndentationError`.\n",
        "\n",
        "```python\n",
        "\n",
        "if 2 + 2 == 4:\n",
        "print('You can do math!')\n",
        "\n",
        "```\n",
        "\n",
        "\n",
        "```python\n",
        "  File \"<ipython-input-8-3490993ed487>\", line 2\n",
        "    print('You can do math!')\n",
        "    ^\n",
        "IndentationError: expected an indented block\n",
        "\n",
        "```\n",
        "\n",
        "\n",
        "#### `ValueError`\n",
        "\n",
        "If Python expect one value for a function but is provided another, it usually is classified as a `ValueError`:\n",
        "\n",
        "```python\n",
        "my_list = [1, 2, 4, 5]\n",
        "my_list.index('a')\n",
        "\n",
        "```\n",
        "\n",
        "```python\n",
        "ValueError   \n",
        "  File \"<ipython-input-8-3490993ed487>\", line 2\n",
        "      1 my_list = [1, 2, 4, 5]\n",
        "----> 2 my_list.index('a')\n",
        "\n",
        "ValueError: 'a' is not in list\n",
        "```\n",
        "\n",
        "\n",
        "These are three examples of errors you've probably already ran into. There are many that exist and can be found via the documentation online, or observing their names in the error messages."
      ]
    },
    {
      "cell_type": "markdown",
      "metadata": {
        "id": "QcENmymJKj6o"
      },
      "source": [
        "## Let's build a `try...except` block to catch some specific error.\n",
        "\n",
        "You can have multiple `except` sections, each designating specific code to be executed if a certain error is produced in the `try` section.\n",
        "\n",
        "We'll begin with our last block, and add to it specific errors."
      ]
    },
    {
      "cell_type": "code",
      "metadata": {
        "id": "8tzlqh_pKj6p"
      },
      "source": [],
      "execution_count": null,
      "outputs": []
    },
    {
      "cell_type": "code",
      "source": [],
      "metadata": {
        "id": "XrpZaFGL2cS6"
      },
      "execution_count": null,
      "outputs": []
    },
    {
      "cell_type": "markdown",
      "metadata": {
        "id": "mFvkBsvcKj6w"
      },
      "source": [
        "Python will work from the first `except` block down, so if you use `except Exception` mixed in with other `except` sections to catch specific errors, you must put `except Exception` last.\n",
        "\n",
        "However ...\n",
        "\n",
        "**It is important that you limit your usage of `except Exception`.** We always want to try and be as specific as possible, so we always know exactly what our programs are doing."
      ]
    },
    {
      "cell_type": "markdown",
      "metadata": {
        "id": "aFJhgqJsKj6x"
      },
      "source": [
        "## A `try...except...else` block"
      ]
    },
    {
      "cell_type": "markdown",
      "metadata": {
        "id": "l2FCZiGYKj6y"
      },
      "source": [
        "These are the same as before, but the `else` section will ***only be executed*** if no error occured."
      ]
    },
    {
      "cell_type": "markdown",
      "metadata": {
        "id": "0HC1lURTKj60"
      },
      "source": [
        "Let's make an `else` section that prints out the content of the file."
      ]
    },
    {
      "cell_type": "code",
      "metadata": {
        "id": "SRT-xk78Kj61"
      },
      "source": [],
      "execution_count": null,
      "outputs": []
    },
    {
      "cell_type": "markdown",
      "metadata": {
        "id": "6y-KBYHcKj66"
      },
      "source": [
        "## A `try...except...else...finally` block"
      ]
    },
    {
      "cell_type": "markdown",
      "metadata": {
        "id": "C4KD0pLXKj66"
      },
      "source": [
        "`finally` will execute no matter what.\n",
        "\n",
        "Some ideas:\n",
        "\n",
        "* 'Goodbye' phrase: \"Program completed successfully.\"\n",
        "* Closing a database\n",
        "* Deleting a large object from memory, maybe"
      ]
    },
    {
      "cell_type": "markdown",
      "source": [
        "Let's use `input()` to prompt the user for an amino acid."
      ],
      "metadata": {
        "id": "cvqlj-Gt9FtC"
      }
    },
    {
      "cell_type": "code",
      "metadata": {
        "id": "8ztCzyPvKj68"
      },
      "source": [],
      "execution_count": null,
      "outputs": []
    },
    {
      "cell_type": "markdown",
      "metadata": {
        "id": "IYAe88tuKj7A"
      },
      "source": [
        "### Mix and match\n",
        "\n",
        "You can use `try`, `except`, `else`, and `finally` in whatever combination you like.\n",
        "\n",
        "In other words, you can have a block with `try`, three `except` sectons, and a `finally`, without any `else`, as well as many other combinations."
      ]
    },
    {
      "cell_type": "markdown",
      "source": [
        "### An advanced aside: differences between `except:` and `except Exception:`\n",
        "\n",
        "What is the difference between simply using `except:` vs `except Exception:`?\n",
        "\n",
        "At first glance, both seem identical: They catch all exceptions. However, let's investigate consider two code cells."
      ],
      "metadata": {
        "id": "zEnmDv2r-T3q"
      }
    },
    {
      "cell_type": "code",
      "source": [
        "# while True:\n",
        "\n",
        "#   try:\n",
        "#     selection = input()\n",
        "#     aa = amino_aciads[selection]\n",
        "#   except Exception: # no need for \"as e\" if we're not using e\n",
        "#     print(f\"'{selection}' is not a valid selection for the dictionary.\")\n",
        "#   else:\n",
        "#     print(f\"The three-letter code for {selection} is {aa}.\")\n",
        "\n"
      ],
      "metadata": {
        "id": "pB4u7pDP-s6i"
      },
      "execution_count": null,
      "outputs": []
    },
    {
      "cell_type": "code",
      "source": [
        "# while True:\n",
        "\n",
        "#   try:\n",
        "#     selection = input()\n",
        "#     aa = amino_aciads[selection]\n",
        "#   except:\n",
        "#     print(f\"'{selection}' is not a valid selection for the dictionary.\")\n",
        "#   else:\n",
        "#     print(f\"The three-letter code for {selection} is {aa}.\")\n",
        "\n"
      ],
      "metadata": {
        "id": "_Fnm-PJ_-TjV"
      },
      "execution_count": null,
      "outputs": []
    },
    {
      "cell_type": "markdown",
      "metadata": {
        "id": "XyyX8rS3Kj7B"
      },
      "source": [
        "## `raise` to raise errors\n",
        "\n",
        "We can use `raise` to raise errors.\n",
        "\n",
        "For example: You're writing a Python package, and create custom Python errors that work in a similar way to `FileNotFoundError` or `IndentationError`. But it also can be useful in simple cases.\n",
        "\n",
        "Imagine that you're asking a user to input a password, and don't want them to use the password 'password'."
      ]
    },
    {
      "cell_type": "code",
      "source": [],
      "metadata": {
        "id": "VifuZ-UUCCsY"
      },
      "execution_count": null,
      "outputs": []
    },
    {
      "cell_type": "markdown",
      "source": [
        "We can also define our own errors by creating a new error class (more on this at another time)."
      ],
      "metadata": {
        "id": "7dvkmRUFCLnF"
      }
    },
    {
      "cell_type": "code",
      "metadata": {
        "id": "ZdqEnKdTKj7B"
      },
      "source": [],
      "execution_count": null,
      "outputs": []
    },
    {
      "cell_type": "markdown",
      "source": [
        "# Lab\n",
        "\n",
        "For this lab, please try out the problems below. You do not have to go in order - tackle the problem that's the most interesting!"
      ],
      "metadata": {
        "id": "jRopzTNb_tbf"
      }
    },
    {
      "cell_type": "markdown",
      "source": [
        "## Lab Exercise 1: Managing a dictionary of usernames and passwords.\n",
        "\n",
        "This builds off of the password example from above.\n",
        "\n",
        "Please engineer the following:\n",
        "\n",
        "1. Make a function called `check_password` that takes in a user password and checks it against a list of bad passwords. If any bad password is provided, `raise` an `Exception`.\n",
        "  * Example of bad passwords include easy-to-guess passwords (e.g., `123`, `password`, `password123`) or passwords with the username.\n",
        "  * Be creative! Think of cool ways to make sure a password is strong (e.g., ensuring at least one capital letter, one symbol is used, or if it is long enough).\n",
        "\n",
        "2. Make a function called `check_username` that makes sure that the username contains no special characters (i.e., anything that's not a letter or number) or spaces.\n",
        "\n",
        "3. Use all of your flow control tools (e.g., `while`, `for`, `try...except`, `if`, etc.) to incorporate your functions `check_password` and `check_username` to do the following:\n",
        "  * Receive a user-inputted username and password\n",
        "  * Check to make sure both username and password is valid\n",
        "  * Save the username and password into a dictionary (be sure to `hash()` your password!!)\n",
        "\n",
        "4. Finally, adjust your code to do the following:\n",
        "  * If a username is already signed up in your dictionary, prompt the user for their password and check it against its hash.\n",
        "  * If a username is not signed up, ask for a password and sign them up.\n",
        "  "
      ],
      "metadata": {
        "id": "nm-28JckCWl9"
      }
    },
    {
      "cell_type": "code",
      "source": [],
      "metadata": {
        "id": "BCnhXnq9FhPG"
      },
      "execution_count": null,
      "outputs": []
    },
    {
      "cell_type": "markdown",
      "source": [
        "## Lab Exercise 2: Creating a tool for wet lab scientists\n",
        "\n",
        "Building off of the first examples in the lecture, consider the dictionary:\n",
        "\n",
        "```python\n",
        "amino_acids = {\n",
        "    'Alanine': 'Ala',\n",
        "    'Arginine': 'Arg',\n",
        "    'Asparagine': 'Asn',\n",
        "    'Aspartic Acid': 'Asp',\n",
        "    'Cysteine': 'Cys',\n",
        "    'Glutamic Acid': 'Glu',\n",
        "    'Glutamine': 'Gln',\n",
        "    'Glycine': 'Gly',\n",
        "    'Histidine': 'His',\n",
        "    'Isoleucine': 'Ile',\n",
        "    'Leucine': 'Leu',\n",
        "    'Lysine': 'Lys',\n",
        "    'Methionine': 'Met',\n",
        "    'Phenylalanine': 'Phe',\n",
        "    'Proline': 'Pro',\n",
        "    'Serine': 'Ser',\n",
        "    'Threonine': 'Thr',\n",
        "    'Tryptophan': 'Trp',\n",
        "    'Tyrosine': 'Tyr',\n",
        "    'Valine': 'Val'\n",
        "}\n",
        "```\n",
        "\n",
        "Write code that does the following:\n",
        "\n",
        "1. Continually loops to ask the user over and over again for new amino acids.\n",
        "\n",
        "2. Auto-capitalizes the selection from a user, so that `valine` and `Valine` both are proper inputs.\n",
        "\n",
        "3. If a user mispells the amino acid by one letter, tell the user that their input could not be found, and suggest that they likely mispelled the amino acid. Finally, suggest to them the probable amino acid they're intending to input.\n"
      ],
      "metadata": {
        "id": "eX6nib5sFDUW"
      }
    },
    {
      "cell_type": "code",
      "source": [],
      "metadata": {
        "id": "PydcSW2nIIIJ"
      },
      "execution_count": null,
      "outputs": []
    }
  ]
}